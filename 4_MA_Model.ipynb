{
 "cells": [
  {
   "cell_type": "code",
   "execution_count": null,
   "metadata": {},
   "outputs": [],
   "source": [
    "#Import the libraries\n",
    "import pandas as pd\n",
    "import numpy as np\n",
    "import scipy.stats as sp\n",
    "import matplotlib.pyplot as plt\n",
    "from sklearn import metrics\n",
    "import math\n",
    "from statsmodels.tsa.arima_model import ARIMA\n",
    "import pmdarima as pm"
   ]
  },
  {
   "cell_type": "code",
   "execution_count": null,
   "metadata": {},
   "outputs": [],
   "source": [
    "#Preprocessing\n",
    "\n",
    "###A function to split a string based on seprator and position of separator\n",
    "def split(strng, sep, pos):\n",
    "    strng = strng.split(sep)\n",
    "    return sep.join(strng[:pos]), sep.join(strng[pos:])\n",
    "\n",
    "###Merge submission and visit data\n",
    "df_sub =pd.read_csv('E:/R workspace/recruit-restaurant-visitor-forecasting/sample_submission.csv')\n",
    "df_sub[['air_store_id','visit_date']] = df_sub.id.apply( \n",
    "   lambda x: pd.Series(split(str(x), \"_\", 2))) \n",
    "df_sub = df_sub.drop(columns=['id'])\n",
    "df = pd.read_csv('E:/R workspace/recruit-restaurant-visitor-forecasting/air_visit_data.csv')\n",
    "medianValue = round(df['visitors'].median())\n",
    "df = df.append(df_sub, ignore_index=True, sort=False)\n",
    "\n",
    "###Resample dates and perform median imputation\n",
    "df.index = pd.to_datetime(df['visit_date'])\n",
    "df = df.groupby('air_store_id').apply(lambda g: g['visitors'].resample('D').sum()).reset_index()\n",
    "df['visit_date'] = df['visit_date'].dt.strftime('%Y-%m-%d')\n",
    "subm = df[df['visit_date'] >= '2017-04-23'].copy()\n",
    "mask = (df['visitors'] == 0) & (df['visit_date'] < '2017-04-23')\n",
    "df['visitors'][mask] = medianValue\n",
    "\n",
    "###Remove unnecessary restaurant data\n",
    "lst = subm.air_store_id.unique()\n",
    "subDF = df[df['air_store_id'].isin(lst)]\n",
    "subDF['visitors_org'] = subDF['visitors']\n",
    "subDF['visitors'] = np.log1p(subDF['visitors'])"
   ]
  },
  {
   "cell_type": "code",
   "execution_count": null,
   "metadata": {},
   "outputs": [],
   "source": [
    "#MA model\n",
    "i=0\n",
    "dfObjSubm = pd.DataFrame(columns=['id', 'visitors'])\n",
    "for item in lst:\n",
    "    i+=1\n",
    "    print(i)\n",
    "    print(item)\n",
    "    dr = subDF[subDF['air_store_id'] == item] \n",
    "    train_df = dr.loc[dr.visit_date < '2017-04-23', ~dr.columns.isin(['air_store_id','visitors_org'])]\n",
    "    train_df.set_index('visit_date', inplace=True)\n",
    "    test_df = dr.loc[dr.visit_date >= '2017-04-23', ~dr.columns.isin(['visitors_org'])]\n",
    "    model = pm.auto_arima(train_df.visitors, start_p=0, start_q=1,\n",
    "                      test='adf',       \n",
    "                      max_p=0, max_q=5, \n",
    "                      m=1,              \n",
    "                      d=0,          \n",
    "                      seasonal=False,   \n",
    "                      start_P=0, \n",
    "                      D=0, \n",
    "                      trace=True,\n",
    "                      error_action='ignore',  \n",
    "                      suppress_warnings=True, \n",
    "                      stepwise=True)\n",
    "    n_periods = 39\n",
    "    fc = model.predict(n_periods=n_periods)\n",
    "    test_df['id'] = test_df.apply(lambda row: row.air_store_id +'_'+ str(row.visit_date).split()[0], axis=1)\n",
    "    test_df['visitors'] = fc\n",
    "    dfObjSubm = pd.concat([dfObjSubm, test_df[['id','visitors']]])\n",
    "dfObjSubm['visitors'] = round(np.expm1(dfObjSubm['visitors']))\n",
    "dfObjSubm = dfObjSubm.reset_index(drop=True)\n",
    "dfObjSubm.to_csv('file_MA.csv', index=False)"
   ]
  }
 ],
 "metadata": {
  "kernelspec": {
   "display_name": "Python 3",
   "language": "python",
   "name": "python3"
  },
  "language_info": {
   "codemirror_mode": {
    "name": "ipython",
    "version": 3
   },
   "file_extension": ".py",
   "mimetype": "text/x-python",
   "name": "python",
   "nbconvert_exporter": "python",
   "pygments_lexer": "ipython3",
   "version": "3.8.5"
  }
 },
 "nbformat": 4,
 "nbformat_minor": 4
}
